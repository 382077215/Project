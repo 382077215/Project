{
 "cells": [
  {
   "cell_type": "code",
   "execution_count": 2,
   "metadata": {
    "collapsed": false
   },
   "outputs": [],
   "source": [
    "import numpy as np\n",
    "import pandas as pd\n",
    "import matplotlib.pyplot as plt\n",
    "%matplotlib inline"
   ]
  },
  {
   "cell_type": "markdown",
   "metadata": {},
   "source": [
    "## 预处理"
   ]
  },
  {
   "cell_type": "code",
   "execution_count": 3,
   "metadata": {
    "collapsed": true
   },
   "outputs": [],
   "source": [
    "path = 'F:/研习部/第二次案例分析/肠道16S测序数据'"
   ]
  },
  {
   "cell_type": "code",
   "execution_count": 4,
   "metadata": {
    "collapsed": false
   },
   "outputs": [],
   "source": [
    "databg = pd.read_csv(path+'/2054samples backgroud information.csv')\n",
    "datagenus = pd.read_csv(path+'/2054samples profiling of genus.csv')\n",
    "dataotu = pd.read_csv(path+'/2054samples profiling of OTUs.csv')"
   ]
  },
  {
   "cell_type": "code",
   "execution_count": 5,
   "metadata": {
    "collapsed": false
   },
   "outputs": [],
   "source": [
    "databg = databg.iloc[:,0:18]"
   ]
  },
  {
   "cell_type": "code",
   "execution_count": 6,
   "metadata": {
    "collapsed": false
   },
   "outputs": [],
   "source": [
    "databg = databg[(databg['Sampled Loci'] == 'chongqing')|(databg['Sampled Loci'] == 'quanzhou')]"
   ]
  },
  {
   "cell_type": "code",
   "execution_count": 7,
   "metadata": {
    "collapsed": false
   },
   "outputs": [],
   "source": [
    "datagenus = pd.merge(databg,datagenus,on = 'SampleID',how = 'inner')"
   ]
  },
  {
   "cell_type": "code",
   "execution_count": 8,
   "metadata": {
    "collapsed": true
   },
   "outputs": [],
   "source": [
    "dataotu = pd.merge(databg,dataotu,on = 'SampleID',how = 'inner')"
   ]
  },
  {
   "cell_type": "markdown",
   "metadata": {},
   "source": [
    "## 缺失值情况"
   ]
  },
  {
   "cell_type": "code",
   "execution_count": 9,
   "metadata": {
    "collapsed": false
   },
   "outputs": [
    {
     "data": {
      "text/plain": [
       "SampleID         0\n",
       "Gender           0\n",
       "Age              0\n",
       "Height           6\n",
       "Weight           6\n",
       "BMI              0\n",
       "Waistline       15\n",
       "SP               0\n",
       "DP               0\n",
       "FBG              0\n",
       "Cholesterol      0\n",
       "Triglyceride     0\n",
       "LDL              0\n",
       "HDL              0\n",
       "UA               0\n",
       "Creatinine       0\n",
       "eGFR             0\n",
       "Sampled Loci     0\n",
       "dtype: int64"
      ]
     },
     "execution_count": 9,
     "metadata": {},
     "output_type": "execute_result"
    }
   ],
   "source": [
    "databg.isnull().sum()  #q缺失值情况"
   ]
  },
  {
   "cell_type": "code",
   "execution_count": 10,
   "metadata": {
    "collapsed": false,
    "scrolled": true
   },
   "outputs": [
    {
     "data": {
      "text/plain": [
       "Height        6\n",
       "Weight        6\n",
       "Waistline    15\n",
       "dtype: int64"
      ]
     },
     "execution_count": 10,
     "metadata": {},
     "output_type": "execute_result"
    }
   ],
   "source": [
    "datagenus.isnull().sum()[datagenus.isnull().sum()!=0]"
   ]
  },
  {
   "cell_type": "code",
   "execution_count": 11,
   "metadata": {
    "collapsed": false
   },
   "outputs": [
    {
     "data": {
      "text/plain": [
       "Height        6\n",
       "Weight        6\n",
       "Waistline    15\n",
       "dtype: int64"
      ]
     },
     "execution_count": 11,
     "metadata": {},
     "output_type": "execute_result"
    }
   ],
   "source": [
    "dataotu.isnull().sum()[dataotu.isnull().sum()!=0]"
   ]
  },
  {
   "cell_type": "markdown",
   "metadata": {},
   "source": [
    "## 特征工程\n",
    "### step1 人工预先筛选"
   ]
  },
  {
   "cell_type": "code",
   "execution_count": 12,
   "metadata": {
    "collapsed": false
   },
   "outputs": [],
   "source": [
    "ndep = databg.shape[1]"
   ]
  },
  {
   "cell_type": "code",
   "execution_count": 13,
   "metadata": {
    "collapsed": false
   },
   "outputs": [
    {
     "data": {
      "text/html": [
       "<div>\n",
       "<table border=\"1\" class=\"dataframe\">\n",
       "  <thead>\n",
       "    <tr style=\"text-align: right;\">\n",
       "      <th></th>\n",
       "      <th>SampleID</th>\n",
       "      <th>Gender</th>\n",
       "      <th>Age</th>\n",
       "      <th>Height</th>\n",
       "      <th>Weight</th>\n",
       "      <th>BMI</th>\n",
       "      <th>Waistline</th>\n",
       "      <th>SP</th>\n",
       "      <th>DP</th>\n",
       "      <th>FBG</th>\n",
       "      <th>...</th>\n",
       "      <th>Otu990</th>\n",
       "      <th>Otu991</th>\n",
       "      <th>Otu992</th>\n",
       "      <th>Otu993</th>\n",
       "      <th>Otu994</th>\n",
       "      <th>Otu995</th>\n",
       "      <th>Otu996</th>\n",
       "      <th>Otu997</th>\n",
       "      <th>Otu998</th>\n",
       "      <th>Otu999</th>\n",
       "    </tr>\n",
       "  </thead>\n",
       "  <tbody>\n",
       "    <tr>\n",
       "      <th>0</th>\n",
       "      <td>45.0</td>\n",
       "      <td>1</td>\n",
       "      <td>33</td>\n",
       "      <td>165.6</td>\n",
       "      <td>55.6</td>\n",
       "      <td>20.3</td>\n",
       "      <td>78.6</td>\n",
       "      <td>111</td>\n",
       "      <td>70</td>\n",
       "      <td>5.44</td>\n",
       "      <td>...</td>\n",
       "      <td>0</td>\n",
       "      <td>0</td>\n",
       "      <td>0</td>\n",
       "      <td>0</td>\n",
       "      <td>0</td>\n",
       "      <td>0</td>\n",
       "      <td>0</td>\n",
       "      <td>0</td>\n",
       "      <td>0</td>\n",
       "      <td>0</td>\n",
       "    </tr>\n",
       "    <tr>\n",
       "      <th>1</th>\n",
       "      <td>130.0</td>\n",
       "      <td>2</td>\n",
       "      <td>42</td>\n",
       "      <td>162.0</td>\n",
       "      <td>58.0</td>\n",
       "      <td>22.1</td>\n",
       "      <td>80.2</td>\n",
       "      <td>129</td>\n",
       "      <td>83</td>\n",
       "      <td>4.47</td>\n",
       "      <td>...</td>\n",
       "      <td>0</td>\n",
       "      <td>0</td>\n",
       "      <td>0</td>\n",
       "      <td>0</td>\n",
       "      <td>0</td>\n",
       "      <td>0</td>\n",
       "      <td>0</td>\n",
       "      <td>0</td>\n",
       "      <td>0</td>\n",
       "      <td>0</td>\n",
       "    </tr>\n",
       "    <tr>\n",
       "      <th>2</th>\n",
       "      <td>90041630.0</td>\n",
       "      <td>1</td>\n",
       "      <td>25</td>\n",
       "      <td>168.0</td>\n",
       "      <td>67.9</td>\n",
       "      <td>24.1</td>\n",
       "      <td>84.0</td>\n",
       "      <td>136</td>\n",
       "      <td>75</td>\n",
       "      <td>5.25</td>\n",
       "      <td>...</td>\n",
       "      <td>0</td>\n",
       "      <td>0</td>\n",
       "      <td>0</td>\n",
       "      <td>0</td>\n",
       "      <td>0</td>\n",
       "      <td>0</td>\n",
       "      <td>0</td>\n",
       "      <td>0</td>\n",
       "      <td>0</td>\n",
       "      <td>0</td>\n",
       "    </tr>\n",
       "    <tr>\n",
       "      <th>3</th>\n",
       "      <td>90041076.0</td>\n",
       "      <td>2</td>\n",
       "      <td>24</td>\n",
       "      <td>160.0</td>\n",
       "      <td>51.0</td>\n",
       "      <td>19.9</td>\n",
       "      <td>68.0</td>\n",
       "      <td>121</td>\n",
       "      <td>79</td>\n",
       "      <td>5.21</td>\n",
       "      <td>...</td>\n",
       "      <td>0</td>\n",
       "      <td>0</td>\n",
       "      <td>0</td>\n",
       "      <td>0</td>\n",
       "      <td>1</td>\n",
       "      <td>0</td>\n",
       "      <td>0</td>\n",
       "      <td>0</td>\n",
       "      <td>0</td>\n",
       "      <td>0</td>\n",
       "    </tr>\n",
       "    <tr>\n",
       "      <th>4</th>\n",
       "      <td>90041114.0</td>\n",
       "      <td>2</td>\n",
       "      <td>26</td>\n",
       "      <td>169.5</td>\n",
       "      <td>59.6</td>\n",
       "      <td>20.7</td>\n",
       "      <td>80.0</td>\n",
       "      <td>100</td>\n",
       "      <td>52</td>\n",
       "      <td>5.39</td>\n",
       "      <td>...</td>\n",
       "      <td>0</td>\n",
       "      <td>0</td>\n",
       "      <td>0</td>\n",
       "      <td>2</td>\n",
       "      <td>1</td>\n",
       "      <td>0</td>\n",
       "      <td>0</td>\n",
       "      <td>0</td>\n",
       "      <td>0</td>\n",
       "      <td>0</td>\n",
       "    </tr>\n",
       "  </tbody>\n",
       "</table>\n",
       "<p>5 rows × 2119 columns</p>\n",
       "</div>"
      ],
      "text/plain": [
       "     SampleID  Gender  Age  Height  Weight   BMI  Waistline   SP  DP   FBG  \\\n",
       "0        45.0       1   33   165.6    55.6  20.3       78.6  111  70  5.44   \n",
       "1       130.0       2   42   162.0    58.0  22.1       80.2  129  83  4.47   \n",
       "2  90041630.0       1   25   168.0    67.9  24.1       84.0  136  75  5.25   \n",
       "3  90041076.0       2   24   160.0    51.0  19.9       68.0  121  79  5.21   \n",
       "4  90041114.0       2   26   169.5    59.6  20.7       80.0  100  52  5.39   \n",
       "\n",
       "    ...    Otu990  Otu991  Otu992  Otu993  Otu994  Otu995  Otu996 Otu997  \\\n",
       "0   ...         0       0       0       0       0       0       0      0   \n",
       "1   ...         0       0       0       0       0       0       0      0   \n",
       "2   ...         0       0       0       0       0       0       0      0   \n",
       "3   ...         0       0       0       0       1       0       0      0   \n",
       "4   ...         0       0       0       2       1       0       0      0   \n",
       "\n",
       "   Otu998  Otu999  \n",
       "0       0       0  \n",
       "1       0       0  \n",
       "2       0       0  \n",
       "3       0       0  \n",
       "4       0       0  \n",
       "\n",
       "[5 rows x 2119 columns]"
      ]
     },
     "execution_count": 13,
     "metadata": {},
     "output_type": "execute_result"
    }
   ],
   "source": [
    "dataotu.head()"
   ]
  },
  {
   "cell_type": "markdown",
   "metadata": {},
   "source": [
    "### 考虑计算最大信息系数MIC"
   ]
  },
  {
   "cell_type": "code",
   "execution_count": 14,
   "metadata": {
    "collapsed": true
   },
   "outputs": [],
   "source": [
    "index1 = list(range(ndep,datagenus.shape[1]))\n",
    "index2 = list(range(ndep,dataotu.shape[1]))"
   ]
  },
  {
   "cell_type": "code",
   "execution_count": 15,
   "metadata": {
    "collapsed": false
   },
   "outputs": [],
   "source": [
    "from minepy import MINE\n",
    "def calmic(a,b):\n",
    "    m = MINE()\n",
    "    m.compute_score(a,b)\n",
    "    return m.mic()\n",
    "MIC1 = []\n",
    "MIC2 = []\n",
    "for i in range(ndep,datagenus.shape[1]):\n",
    "    MIC1.append(calmic(datagenus['Age'],datagenus.iloc[:,i]))\n",
    "for i in range(ndep,dataotu.shape[1]):\n",
    "    MIC2.append(calmic(dataotu['Age'],dataotu.iloc[:,i]))"
   ]
  },
  {
   "cell_type": "code",
   "execution_count": 17,
   "metadata": {
    "collapsed": false
   },
   "outputs": [
    {
     "data": {
      "image/png": "[encoded data removed]",
      "text/plain": [
       "<Figure size 600x400 with 1 Axes>"
      ]
     },
     "metadata": {},
     "output_type": "display_data"
    },
    {
     "data": {
      "image/png": "[encoded data removed]",
      "text/plain": [
       "<Figure size 600x400 with 1 Axes>"
      ]
     },
     "metadata": {},
     "output_type": "display_data"
    }
   ],
   "source": [
    "fig1 = plt.figure()\n",
    "fig2 = plt.figure()\n",
    "ax1 = fig1.add_subplot(1,1,1)\n",
    "ax1.scatter(range(len(MIC1)),MIC1)\n",
    "fig1.savefig('F:/研习部/第二次案例分析/ElegantNote 2.00/image/c1.png')\n",
    "ax2 = fig2.add_subplot(1,1,1)\n",
    "ax2.scatter(range(len(MIC2)),MIC2)\n",
    "fig2.savefig('F:/研习部/第二次案例分析/ElegantNote 2.00/image/c2.png')"
   ]
  },
  {
   "cell_type": "markdown",
   "metadata": {},
   "source": [
    "### 考虑计算距离相关系数dcorr"
   ]
  },
  {
   "cell_type": "code",
   "execution_count": 18,
   "metadata": {
    "collapsed": false
   },
   "outputs": [],
   "source": [
    "from scipy.spatial.distance import pdist, squareform\n",
    "import numpy as np\n",
    "def distcorr(X, Y):\n",
    "    X = np.atleast_1d(X)\n",
    "    Y = np.atleast_1d(Y)\n",
    "    if np.prod(X.shape) == len(X):\n",
    "        X = X[:, None]\n",
    "    if np.prod(Y.shape) == len(Y):\n",
    "        Y = Y[:, None]\n",
    "    X = np.atleast_2d(X)\n",
    "    Y = np.atleast_2d(Y)\n",
    "    n = X.shape[0]\n",
    "    if Y.shape[0] != X.shape[0]:\n",
    "        raise ValueError('Number of samples must match')\n",
    "    a = squareform(pdist(X))\n",
    "    b = squareform(pdist(Y))\n",
    "    A = a - a.mean(axis=0)[None, :] - a.mean(axis=1)[:, None] + a.mean()\n",
    "    B = b - b.mean(axis=0)[None, :] - b.mean(axis=1)[:, None] + b.mean()\n",
    "    \n",
    "    dcov2_xy = (A * B).sum()/float(n * n)\n",
    "    dcov2_xx = (A * A).sum()/float(n * n)\n",
    "    dcov2_yy = (B * B).sum()/float(n * n)\n",
    "    dcor = np.sqrt(dcov2_xy)/np.sqrt(np.sqrt(dcov2_xx) * np.sqrt(dcov2_yy))\n",
    "    return dcor"
   ]
  },
  {
   "cell_type": "code",
   "execution_count": 19,
   "metadata": {
    "collapsed": false
   },
   "outputs": [],
   "source": [
    "dcorr1 = []\n",
    "dcorr2 = []\n",
    "for i in range(ndep,datagenus.shape[1]):\n",
    "    dcorr1.append(distcorr(datagenus['Age'],datagenus.iloc[:,i]))\n",
    "for i in range(ndep,dataotu.shape[1]):\n",
    "    dcorr2.append(distcorr(dataotu['Age'],dataotu.iloc[:,i]))"
   ]
  },
  {
   "cell_type": "code",
   "execution_count": 247,
   "metadata": {
    "collapsed": false
   },
   "outputs": [
    {
     "data": {
      "image/png": "[encoded data removed]",
      "text/plain": [
       "<Figure size 600x400 with 1 Axes>"
      ]
     },
     "metadata": {},
     "output_type": "display_data"
    },
    {
     "data": {
      "image/png": "[encoded data removed]",
      "text/plain": [
       "<Figure size 600x400 with 1 Axes>"
      ]
     },
     "metadata": {},
     "output_type": "display_data"
    }
   ],
   "source": [
    "fig1 = plt.figure()\n",
    "fig2 = plt.figure()\n",
    "ax1 = fig1.add_subplot(1,1,1)\n",
    "ax1.scatter(range(len(dcorr1)),dcorr1)\n",
    "ax2 = fig2.add_subplot(1,1,1)\n",
    "ax2.scatter(range(len(dcorr2)),dcorr2)\n",
    "fig1.savefig('F:/研习部/第二次案例分析/ElegantNote 2.00/image/c3.png')\n",
    "fig2.savefig('F:/研习部/第二次案例分析/ElegantNote 2.00/image/c4.png')"
   ]
  },
  {
   "cell_type": "markdown",
   "metadata": {},
   "source": [
    "### 筛选 MIC是0.04，dcorr是0.06 逻辑关系是且(或 也可以尝试)"
   ]
  },
  {
   "cell_type": "code",
   "execution_count": 138,
   "metadata": {
    "collapsed": false
   },
   "outputs": [],
   "source": [
    "select_index1 = [index1[i] for i in range(len(index1)) if (MIC1[i]>0.04 and dcorr1[i]>0.06)] #or\n",
    "select_index2 = [index2[i] for i in range(len(index2)) if (MIC2[i]>0.04 and dcorr2[i]>0.06)] #or"
   ]
  },
  {
   "cell_type": "code",
   "execution_count": 139,
   "metadata": {
    "collapsed": false
   },
   "outputs": [
    {
     "name": "stdout",
     "output_type": "stream",
     "text": [
      "18 70\n"
     ]
    }
   ],
   "source": [
    "print(len(select_index1),len(select_index2))"
   ]
  },
  {
   "cell_type": "markdown",
   "metadata": {},
   "source": [
    "### step2 xgboost包装法特征选择"
   ]
  },
  {
   "cell_type": "code",
   "execution_count": 140,
   "metadata": {
    "collapsed": false
   },
   "outputs": [],
   "source": [
    "##考虑AGE是响应变量\n",
    "datagenus.head()\n",
    "dataxgb = pd.merge(datagenus.iloc[:,[0,2]+select_index1],dataotu.iloc[:,[0]+select_index2],on = 'SampleID',how = 'inner')"
   ]
  },
  {
   "cell_type": "code",
   "execution_count": 141,
   "metadata": {
    "collapsed": false
   },
   "outputs": [
    {
     "data": {
      "text/html": [
       "<div>\n",
       "<table border=\"1\" class=\"dataframe\">\n",
       "  <thead>\n",
       "    <tr style=\"text-align: right;\">\n",
       "      <th></th>\n",
       "      <th>SampleID</th>\n",
       "      <th>Age</th>\n",
       "      <th>Alistipes</th>\n",
       "      <th>Anaerostipes</th>\n",
       "      <th>Blautia</th>\n",
       "      <th>Collinsella</th>\n",
       "      <th>Desulfovibrio</th>\n",
       "      <th>Dialister</th>\n",
       "      <th>Dorea</th>\n",
       "      <th>Erysipelatoclostridium</th>\n",
       "      <th>...</th>\n",
       "      <th>Otu80</th>\n",
       "      <th>Otu81</th>\n",
       "      <th>Otu835</th>\n",
       "      <th>Otu86</th>\n",
       "      <th>Otu87</th>\n",
       "      <th>Otu91</th>\n",
       "      <th>Otu93</th>\n",
       "      <th>Otu94</th>\n",
       "      <th>Otu98</th>\n",
       "      <th>Otu99</th>\n",
       "    </tr>\n",
       "  </thead>\n",
       "  <tbody>\n",
       "    <tr>\n",
       "      <th>0</th>\n",
       "      <td>45.0</td>\n",
       "      <td>33</td>\n",
       "      <td>136</td>\n",
       "      <td>27</td>\n",
       "      <td>620</td>\n",
       "      <td>0</td>\n",
       "      <td>0</td>\n",
       "      <td>0</td>\n",
       "      <td>33</td>\n",
       "      <td>122</td>\n",
       "      <td>...</td>\n",
       "      <td>0</td>\n",
       "      <td>17</td>\n",
       "      <td>0</td>\n",
       "      <td>27</td>\n",
       "      <td>54</td>\n",
       "      <td>0</td>\n",
       "      <td>0</td>\n",
       "      <td>161</td>\n",
       "      <td>0</td>\n",
       "      <td>21</td>\n",
       "    </tr>\n",
       "    <tr>\n",
       "      <th>1</th>\n",
       "      <td>130.0</td>\n",
       "      <td>42</td>\n",
       "      <td>9</td>\n",
       "      <td>150</td>\n",
       "      <td>315</td>\n",
       "      <td>1</td>\n",
       "      <td>0</td>\n",
       "      <td>1</td>\n",
       "      <td>1</td>\n",
       "      <td>113</td>\n",
       "      <td>...</td>\n",
       "      <td>0</td>\n",
       "      <td>0</td>\n",
       "      <td>0</td>\n",
       "      <td>150</td>\n",
       "      <td>0</td>\n",
       "      <td>1</td>\n",
       "      <td>0</td>\n",
       "      <td>0</td>\n",
       "      <td>5</td>\n",
       "      <td>28</td>\n",
       "    </tr>\n",
       "    <tr>\n",
       "      <th>2</th>\n",
       "      <td>90041630.0</td>\n",
       "      <td>25</td>\n",
       "      <td>3</td>\n",
       "      <td>11</td>\n",
       "      <td>122</td>\n",
       "      <td>26</td>\n",
       "      <td>2</td>\n",
       "      <td>1</td>\n",
       "      <td>82</td>\n",
       "      <td>147</td>\n",
       "      <td>...</td>\n",
       "      <td>1</td>\n",
       "      <td>39</td>\n",
       "      <td>0</td>\n",
       "      <td>11</td>\n",
       "      <td>1</td>\n",
       "      <td>92</td>\n",
       "      <td>1897</td>\n",
       "      <td>69</td>\n",
       "      <td>1</td>\n",
       "      <td>8</td>\n",
       "    </tr>\n",
       "    <tr>\n",
       "      <th>3</th>\n",
       "      <td>90041076.0</td>\n",
       "      <td>24</td>\n",
       "      <td>58</td>\n",
       "      <td>20</td>\n",
       "      <td>140</td>\n",
       "      <td>5</td>\n",
       "      <td>0</td>\n",
       "      <td>4</td>\n",
       "      <td>0</td>\n",
       "      <td>0</td>\n",
       "      <td>...</td>\n",
       "      <td>0</td>\n",
       "      <td>81</td>\n",
       "      <td>0</td>\n",
       "      <td>20</td>\n",
       "      <td>45</td>\n",
       "      <td>0</td>\n",
       "      <td>0</td>\n",
       "      <td>3</td>\n",
       "      <td>8</td>\n",
       "      <td>1</td>\n",
       "    </tr>\n",
       "    <tr>\n",
       "      <th>4</th>\n",
       "      <td>90041114.0</td>\n",
       "      <td>26</td>\n",
       "      <td>399</td>\n",
       "      <td>974</td>\n",
       "      <td>4011</td>\n",
       "      <td>689</td>\n",
       "      <td>0</td>\n",
       "      <td>0</td>\n",
       "      <td>2315</td>\n",
       "      <td>63</td>\n",
       "      <td>...</td>\n",
       "      <td>91</td>\n",
       "      <td>152</td>\n",
       "      <td>0</td>\n",
       "      <td>971</td>\n",
       "      <td>45</td>\n",
       "      <td>9</td>\n",
       "      <td>0</td>\n",
       "      <td>29</td>\n",
       "      <td>306</td>\n",
       "      <td>26</td>\n",
       "    </tr>\n",
       "  </tbody>\n",
       "</table>\n",
       "<p>5 rows × 90 columns</p>\n",
       "</div>"
      ],
      "text/plain": [
       "     SampleID  Age  Alistipes  Anaerostipes  Blautia  Collinsella  \\\n",
       "0        45.0   33        136            27      620            0   \n",
       "1       130.0   42          9           150      315            1   \n",
       "2  90041630.0   25          3            11      122           26   \n",
       "3  90041076.0   24         58            20      140            5   \n",
       "4  90041114.0   26        399           974     4011          689   \n",
       "\n",
       "   Desulfovibrio  Dialister  Dorea  Erysipelatoclostridium  ...    Otu80  \\\n",
       "0              0          0     33                     122  ...        0   \n",
       "1              0          1      1                     113  ...        0   \n",
       "2              2          1     82                     147  ...        1   \n",
       "3              0          4      0                       0  ...        0   \n",
       "4              0          0   2315                      63  ...       91   \n",
       "\n",
       "   Otu81  Otu835  Otu86  Otu87  Otu91  Otu93  Otu94  Otu98  Otu99  \n",
       "0     17       0     27     54      0      0    161      0     21  \n",
       "1      0       0    150      0      1      0      0      5     28  \n",
       "2     39       0     11      1     92   1897     69      1      8  \n",
       "3     81       0     20     45      0      0      3      8      1  \n",
       "4    152       0    971     45      9      0     29    306     26  \n",
       "\n",
       "[5 rows x 90 columns]"
      ]
     },
     "execution_count": 141,
     "metadata": {},
     "output_type": "execute_result"
    }
   ],
   "source": [
    "dataxgb.head()"
   ]
  },
  {
   "cell_type": "code",
   "execution_count": 142,
   "metadata": {
    "collapsed": false
   },
   "outputs": [],
   "source": [
    "import xgboost as xgb\n",
    "from sklearn.feature_selection import RFE\n",
    "from sklearn.model_selection import train_test_split\n",
    "from sklearn.model_selection import cross_val_score\n",
    "Y = dataxgb.iloc[:,1]\n",
    "X = dataxgb.iloc[:,2:]"
   ]
  },
  {
   "cell_type": "code",
   "execution_count": 267,
   "metadata": {
    "collapsed": false
   },
   "outputs": [
    {
     "data": {
      "image/png": "[encoded data removed]",
      "text/plain": [
       "<Figure size 600x400 with 1 Axes>"
      ]
     },
     "metadata": {},
     "output_type": "display_data"
    }
   ],
   "source": [
    "model = xgb.XGBRegressor()\n",
    "model.fit(X.iloc[:,list(set(np.random.randint(0,X.shape[1]+1,20)))],Y)\n",
    "from xgboost import plot_importance  #画出重要性图片\n",
    "plot_importance(model)\n",
    "fig=plt.gcf()\n",
    "fig.savefig('F:/研习部/第二次案例分析/ElegantNote 2.00/image/c5.png')"
   ]
  },
  {
   "cell_type": "code",
   "execution_count": 225,
   "metadata": {
    "collapsed": false
   },
   "outputs": [
    {
     "name": "stdout",
     "output_type": "stream",
     "text": [
      "20\n",
      "30\n",
      "40\n",
      "50\n",
      "60\n",
      "70\n",
      "80\n"
     ]
    },
    {
     "data": {
      "text/plain": [
       "39"
      ]
     },
     "execution_count": 225,
     "metadata": {},
     "output_type": "execute_result"
    }
   ],
   "source": [
    "def  rec_select(a,b): #定义递归选取变量的函数，每次删去最不重要的变量，直至删完，选取精度最好的子集\n",
    "    global ans\n",
    "    ans = []\n",
    "    for i in range(a,b+1): #a<b\n",
    "        model = xgb.XGBRegressor()\n",
    "        selector = RFE(estimator=model, n_features_to_select=i) #特征选取数量从小到大\n",
    "        X_choice = selector.fit_transform(X, Y) #选出新的数据集\n",
    "        X_train, X_test, Y_train, Y_test = train_test_split(X_choice,Y,test_size=0.3, random_state=0)\n",
    "        ans.append(np.mean(cross_val_score(model,X_choice,Y,cv = 3))) #交叉验证作为得分\n",
    "        if i%10==0:\n",
    "            print(i)\n",
    "    index = ans.index(max(ans))\n",
    "    return list(range(a,b+1))[index]\n",
    "rec_select(20,88)"
   ]
  },
  {
   "cell_type": "code",
   "execution_count": 160,
   "metadata": {
    "collapsed": false
   },
   "outputs": [
    {
     "data": {
      "text/plain": [
       "array([ True,  True,  True, False, False, False, False,  True,  True,\n",
       "       False, False, False, False, False,  True, False, False,  True,\n",
       "        True,  True, False,  True,  True, False, False, False,  True,\n",
       "       False, False, False, False,  True,  True,  True, False, False,\n",
       "       False,  True,  True, False, False,  True, False,  True,  True,\n",
       "        True, False,  True, False,  True,  True, False, False, False,\n",
       "       False,  True, False,  True, False, False,  True, False, False,\n",
       "       False, False,  True, False, False, False,  True,  True,  True,\n",
       "       False, False,  True, False, False,  True,  True,  True, False,\n",
       "       False, False, False,  True,  True,  True,  True])"
      ]
     },
     "execution_count": 160,
     "metadata": {},
     "output_type": "execute_result"
    }
   ],
   "source": [
    "selector = RFE(estimator=model, n_features_to_select=39)\n",
    "selector.fit(X, Y)\n",
    "selector.support_"
   ]
  },
  {
   "cell_type": "code",
   "execution_count": 163,
   "metadata": {
    "collapsed": false
   },
   "outputs": [
    {
     "data": {
      "text/html": [
       "<div>\n",
       "<table border=\"1\" class=\"dataframe\">\n",
       "  <thead>\n",
       "    <tr style=\"text-align: right;\">\n",
       "      <th></th>\n",
       "      <th>Alistipes</th>\n",
       "      <th>Anaerostipes</th>\n",
       "      <th>Blautia</th>\n",
       "      <th>Erysipelatoclostridium</th>\n",
       "      <th>Granulicatella</th>\n",
       "      <th>Salmonella</th>\n",
       "      <th>Turicibacter</th>\n",
       "      <th>Otu10</th>\n",
       "      <th>Otu102</th>\n",
       "      <th>Otu119</th>\n",
       "      <th>...</th>\n",
       "      <th>Otu67</th>\n",
       "      <th>Otu68</th>\n",
       "      <th>Otu72</th>\n",
       "      <th>Otu8</th>\n",
       "      <th>Otu80</th>\n",
       "      <th>Otu81</th>\n",
       "      <th>Otu93</th>\n",
       "      <th>Otu94</th>\n",
       "      <th>Otu98</th>\n",
       "      <th>Otu99</th>\n",
       "    </tr>\n",
       "  </thead>\n",
       "  <tbody>\n",
       "    <tr>\n",
       "      <th>0</th>\n",
       "      <td>136</td>\n",
       "      <td>27</td>\n",
       "      <td>620</td>\n",
       "      <td>122</td>\n",
       "      <td>2</td>\n",
       "      <td>6</td>\n",
       "      <td>0</td>\n",
       "      <td>158</td>\n",
       "      <td>429</td>\n",
       "      <td>0</td>\n",
       "      <td>...</td>\n",
       "      <td>0</td>\n",
       "      <td>15</td>\n",
       "      <td>62</td>\n",
       "      <td>0</td>\n",
       "      <td>0</td>\n",
       "      <td>17</td>\n",
       "      <td>0</td>\n",
       "      <td>161</td>\n",
       "      <td>0</td>\n",
       "      <td>21</td>\n",
       "    </tr>\n",
       "    <tr>\n",
       "      <th>1</th>\n",
       "      <td>9</td>\n",
       "      <td>150</td>\n",
       "      <td>315</td>\n",
       "      <td>113</td>\n",
       "      <td>1</td>\n",
       "      <td>11</td>\n",
       "      <td>0</td>\n",
       "      <td>466</td>\n",
       "      <td>1</td>\n",
       "      <td>0</td>\n",
       "      <td>...</td>\n",
       "      <td>1</td>\n",
       "      <td>1</td>\n",
       "      <td>0</td>\n",
       "      <td>0</td>\n",
       "      <td>0</td>\n",
       "      <td>0</td>\n",
       "      <td>0</td>\n",
       "      <td>0</td>\n",
       "      <td>5</td>\n",
       "      <td>28</td>\n",
       "    </tr>\n",
       "    <tr>\n",
       "      <th>2</th>\n",
       "      <td>3</td>\n",
       "      <td>11</td>\n",
       "      <td>122</td>\n",
       "      <td>147</td>\n",
       "      <td>0</td>\n",
       "      <td>0</td>\n",
       "      <td>0</td>\n",
       "      <td>19</td>\n",
       "      <td>113</td>\n",
       "      <td>2</td>\n",
       "      <td>...</td>\n",
       "      <td>3</td>\n",
       "      <td>1</td>\n",
       "      <td>294</td>\n",
       "      <td>0</td>\n",
       "      <td>1</td>\n",
       "      <td>39</td>\n",
       "      <td>1897</td>\n",
       "      <td>69</td>\n",
       "      <td>1</td>\n",
       "      <td>8</td>\n",
       "    </tr>\n",
       "    <tr>\n",
       "      <th>3</th>\n",
       "      <td>58</td>\n",
       "      <td>20</td>\n",
       "      <td>140</td>\n",
       "      <td>0</td>\n",
       "      <td>0</td>\n",
       "      <td>3</td>\n",
       "      <td>2</td>\n",
       "      <td>639</td>\n",
       "      <td>57</td>\n",
       "      <td>0</td>\n",
       "      <td>...</td>\n",
       "      <td>5</td>\n",
       "      <td>0</td>\n",
       "      <td>80</td>\n",
       "      <td>0</td>\n",
       "      <td>0</td>\n",
       "      <td>81</td>\n",
       "      <td>0</td>\n",
       "      <td>3</td>\n",
       "      <td>8</td>\n",
       "      <td>1</td>\n",
       "    </tr>\n",
       "    <tr>\n",
       "      <th>4</th>\n",
       "      <td>399</td>\n",
       "      <td>974</td>\n",
       "      <td>4011</td>\n",
       "      <td>63</td>\n",
       "      <td>0</td>\n",
       "      <td>1</td>\n",
       "      <td>1</td>\n",
       "      <td>486</td>\n",
       "      <td>68</td>\n",
       "      <td>0</td>\n",
       "      <td>...</td>\n",
       "      <td>689</td>\n",
       "      <td>100</td>\n",
       "      <td>2694</td>\n",
       "      <td>0</td>\n",
       "      <td>91</td>\n",
       "      <td>152</td>\n",
       "      <td>0</td>\n",
       "      <td>29</td>\n",
       "      <td>306</td>\n",
       "      <td>26</td>\n",
       "    </tr>\n",
       "  </tbody>\n",
       "</table>\n",
       "<p>5 rows × 39 columns</p>\n",
       "</div>"
      ],
      "text/plain": [
       "   Alistipes  Anaerostipes  Blautia  Erysipelatoclostridium  Granulicatella  \\\n",
       "0        136            27      620                     122               2   \n",
       "1          9           150      315                     113               1   \n",
       "2          3            11      122                     147               0   \n",
       "3         58            20      140                       0               0   \n",
       "4        399           974     4011                      63               0   \n",
       "\n",
       "   Salmonella  Turicibacter  Otu10  Otu102  Otu119  ...    Otu67  Otu68  \\\n",
       "0           6             0    158     429       0  ...        0     15   \n",
       "1          11             0    466       1       0  ...        1      1   \n",
       "2           0             0     19     113       2  ...        3      1   \n",
       "3           3             2    639      57       0  ...        5      0   \n",
       "4           1             1    486      68       0  ...      689    100   \n",
       "\n",
       "   Otu72  Otu8  Otu80  Otu81  Otu93  Otu94  Otu98  Otu99  \n",
       "0     62     0      0     17      0    161      0     21  \n",
       "1      0     0      0      0      0      0      5     28  \n",
       "2    294     0      1     39   1897     69      1      8  \n",
       "3     80     0      0     81      0      3      8      1  \n",
       "4   2694     0     91    152      0     29    306     26  \n",
       "\n",
       "[5 rows x 39 columns]"
      ]
     },
     "execution_count": 163,
     "metadata": {},
     "output_type": "execute_result"
    }
   ],
   "source": [
    "X.iloc[:,selector.support_].head()"
   ]
  }
 ],
 "metadata": {
  "anaconda-cloud": {},
  "kernelspec": {
   "display_name": "Python [Root]",
   "language": "python",
   "name": "Python [Root]"
  },
  "language_info": {
   "codemirror_mode": {
    "name": "ipython",
    "version": 3
   },
   "file_extension": ".py",
   "mimetype": "text/x-python",
   "name": "python",
   "nbconvert_exporter": "python",
   "pygments_lexer": "ipython3",
   "version": "3.5.2"
  }
 },
 "nbformat": 4,
 "nbformat_minor": 2
}
